{
 "cells": [
  {
   "cell_type": "code",
   "execution_count": 1,
   "id": "900751af-a972-4b8d-aa1a-ca475d6dfd57",
   "metadata": {},
   "outputs": [],
   "source": [
    "import requests \n",
    "import pandas as pd\n",
    "import FinanceDataReader as fdr\n",
    "from tqdm import tqdm\n",
    "from selenium import webdriver\n",
    "from selenium.webdriver.common.by import By\n",
    "import time\n",
    "import re\n",
    "import requests\n",
    "from selenium.webdriver.common.by import By"
   ]
  },
  {
   "cell_type": "code",
   "execution_count": null,
   "id": "84bb6df8-2f1d-41a9-954c-178adeefc61f",
   "metadata": {},
   "outputs": [],
   "source": [
    "#__next > div.sc-8323e241-0.ixjRBS > div > div.sc-f98dc6d6-2.gxoAju"
   ]
  },
  {
   "cell_type": "code",
   "execution_count": 2,
   "id": "822ea634-8413-4862-9efd-8f8c07734f27",
   "metadata": {},
   "outputs": [],
   "source": [
    "driver = webdriver.Chrome()"
   ]
  },
  {
   "cell_type": "code",
   "execution_count": 3,
   "id": "4e6008cc-c3e3-4a30-a6f4-79c97f82e088",
   "metadata": {},
   "outputs": [],
   "source": [
    "driver.get(\"https://www.zigbang.com/home/villa/items/39651561?itemDetailType=ZIGBANG&imageThumbnail=https%3A%2F%2Fic.zigbang.com%2Fic%2Fitems%2F39651561%2F1.jpg\")"
   ]
  },
  {
   "cell_type": "code",
   "execution_count": 5,
   "id": "837f99d2-abe6-4bdc-99ea-de7e506b4b34",
   "metadata": {},
   "outputs": [],
   "source": [
    "information = driver.find_element(By.CSS_SELECTOR, \"#__next > div.sc-8323e241-0.ixjRBS > div > div.sc-f98dc6d6-2.gxoAju\").text"
   ]
  },
  {
   "cell_type": "code",
   "execution_count": 7,
   "id": "5d198efd-c1e5-490e-850f-6ccfa9ee93cc",
   "metadata": {},
   "outputs": [],
   "source": [
    "lst = information.split(\"\\n\")"
   ]
  },
  {
   "cell_type": "code",
   "execution_count": 8,
   "id": "7eb9e6fe-cd28-4336-bef4-e4547f20c9c5",
   "metadata": {},
   "outputs": [
    {
     "data": {
      "text/plain": [
       "['1 / 13',\n",
       " '등록번호 39651561',\n",
       " '6일 전',\n",
       " '서울시 서대문구 신촌동 ',\n",
       " '월세 1,000/105',\n",
       " '관리비 8만원',\n",
       " 'V.갓성비 V.채광쨍 V.귀한투룸 V.이대 연대',\n",
       " '전용 49.59m²',\n",
       " '투룸 (욕실 1개)',\n",
       " '주차 불가능',\n",
       " '3층/3층',\n",
       " '2024. 02. 26 이후 입주 가능',\n",
       " '더보기',\n",
       " '관리비 : 8만원',\n",
       " '포함 : 인터넷',\n",
       " '별도 : 전기세, 가스, 수도, TV, 난방비',\n",
       " '상세 설명',\n",
       " '💯📷 100% 직접찍은 실매물입니다.^^',\n",
       " '',\n",
       " '📣 이방의 특장점 📣',\n",
       " '☑ 큰 창문!!환기?채광? 걱정 마세요!!',\n",
       " '☑ 화장실 컨디션 최상!!',\n",
       " '☑ 화이트톤!! 깨끗합니다!!',\n",
       " '☑ 주변에 편의점 등 편의시설이 가까이에 있습니다.',\n",
       " '',\n",
       " '🚎 위치 및 교통 🚎',\n",
       " '☑ 주택가에 위치해 조용하며, 대로변과 가까워서 귀가길 안전합니다.',\n",
       " '☑ 연세대학교,이대 모두 다니기 좋은 위치입니다.',\n",
       " '',\n",
       " '🏠 옵션 및 구조 🏠 ',\n",
       " '☑ 옵션은 풀옵션 입니다. 몸만 들어오시면 됩니다.',\n",
       " '',\n",
       " ' *총 주차대수 2대이며 상기호수 계약시 주차불가능합니다.',\n",
       " '더보기',\n",
       " '주변 생활 시설',\n",
       " '버스정류장(2분)',\n",
       " '카페(2분)',\n",
       " '편의점(2분)',\n",
       " '세탁소(3분)',\n",
       " '약국(7분)',\n",
       " '지하철역(1분)',\n",
       " '대형마트(2분)',\n",
       " '도보',\n",
       " '자동차',\n",
       " '주변 생활 시설 보기',\n",
       " '이 지역은 하루 배송권이에요',\n",
       " '쿠팡',\n",
       " 'SSG',\n",
       " '마켓컬리',\n",
       " '배달의 민족',\n",
       " '요기요',\n",
       " '인근 전철역',\n",
       " '신촌역(경의선), 독립문역(3호선), 이대역(2호선)',\n",
       " '교통 정보',\n",
       " '최소시간',\n",
       " '지하철',\n",
       " '버스',\n",
       " '도착지 검색',\n",
       " '학군정보',\n",
       " '초등학교',\n",
       " '중학교',\n",
       " '고등학교',\n",
       " '학군배정 학교',\n",
       " '서울대신초통학구역',\n",
       " '서울대신초등학교',\n",
       " '학교까지 거리 1km',\n",
       " '공립/공학',\n",
       " '학군배정 예외학교',\n",
       " '추계초등학교',\n",
       " '학교까지 거리 590m',\n",
       " '사립/공학',\n",
       " '이화여자대학교사범대학부속초등학교',\n",
       " '학교까지 거리 861m',\n",
       " '사립/공학',\n",
       " '더보기',\n",
       " '위치',\n",
       " '서울시 서대문구 신촌동',\n",
       " '250m',\n",
       " '로드뷰 보기',\n",
       " '안심중개사',\n",
       " 'R&C공인중개사사무소',\n",
       " 'R&C공인중개사사무소는 믿을 수 있는 안심중개사입니다',\n",
       " '안심중개사란?',\n",
       " '🔎 微信ID / 카카오톡 ID : RNC8289 🔎 ☎☎☎365일 24시간 문의 대환영☎☎☎ ✔ 100% 실매물 허위매물 절때 없습니다! ✔ 可以提供中文服 / English/ 日本語可能 😊많은방 보시고 싶은분 \"더보기>\" 터치😊 ✔ 안전 최우선! 보안철저! 어두운 골목길 피하고 ✔ 벌래는 정말 싫죠? 깔끔한 방이 좋죠~ ✔ 지하는 왠지 피하고 싶죠? 채광이 중요하죠~ ✔ 옵션이 중요하시죠? 풀옵션이 좋으니까요~ ✔ 화장실 깔끔해야 ~몸도 맘도 깔끔하죠~ R&C공인중개사는 손님이 원하는 방을 잘 알고 있어요 💎광고로 다 올릴수 없어서 죄송합니다💎 💎최선을 다해서 열심히 모시겠습니다 💎',\n",
       " '더보기',\n",
       " '신고하기',\n",
       " '월세 1,000/105',\n",
       " '문의하기']"
      ]
     },
     "execution_count": 8,
     "metadata": {},
     "output_type": "execute_result"
    }
   ],
   "source": [
    "lst"
   ]
  },
  {
   "cell_type": "code",
   "execution_count": null,
   "id": "bce67398-577c-4e3c-9878-7702f94ed2e0",
   "metadata": {},
   "outputs": [],
   "source": []
  }
 ],
 "metadata": {
  "kernelspec": {
   "display_name": "Python 3 (ipykernel)",
   "language": "python",
   "name": "python3"
  },
  "language_info": {
   "codemirror_mode": {
    "name": "ipython",
    "version": 3
   },
   "file_extension": ".py",
   "mimetype": "text/x-python",
   "name": "python",
   "nbconvert_exporter": "python",
   "pygments_lexer": "ipython3",
   "version": "3.12.1"
  }
 },
 "nbformat": 4,
 "nbformat_minor": 5
}
